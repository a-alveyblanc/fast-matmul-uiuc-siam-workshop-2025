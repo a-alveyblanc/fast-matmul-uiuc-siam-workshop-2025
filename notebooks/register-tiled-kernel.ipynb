{
 "cells": [
  {
   "cell_type": "code",
   "execution_count": null,
   "id": "30f37c73-7be0-437b-8843-caa255e12f88",
   "metadata": {},
   "outputs": [],
   "source": [
    "from kernel_runner import KernelRunner\n",
    "from dataclasses import dataclass\n",
    "\n",
    "@dataclass(frozen=True)\n",
    "class RegisterTiledKernelRunner(KernelRunner):\n",
    "    template: str = \"<float, 128, 128, 8, 8, 8>\"\n",
    "    kernel_name: str = \"register_tiled\""
   ]
  },
  {
   "cell_type": "markdown",
   "id": "3edcf327-b29c-4c7b-94da-ba162c2f3626",
   "metadata": {},
   "source": [
    "# Exploiting another level of the memory hierarchy\n",
    "\n",
    "Registers are pieces of memory where compute happens on a chip. This is the\n",
    "ideal place to keep values if at all possible.\n",
    "\n",
    "Instead of splitting loops, we can permute their order to change the how compute\n",
    "happens. Register tiling relies on this permutation.\n",
    "\n",
    "Here's the shared memory loop structure, can you permute the loops to expose more\n",
    "reuse that we can exploit with register usage?\n",
    "```python\n",
    "for io in range(N // BM):                  # parallel outer\n",
    "    for jo in range(N // BN):              # parallel outer\n",
    "        \n",
    "        for ii in range(BM):               # parallel inner\n",
    "            for ji in range(BN):           # parallel inner\n",
    "\n",
    "                for ko in range(N // BK):  # sequential outer\n",
    "                    for ki in range(BK):   # sequential inner\n",
    "                        # compute\n",
    "```"
   ]
  },
  {
   "cell_type": "code",
   "execution_count": null,
   "id": "73bd4418-2b74-45e8-93b3-5d0bb959e04d",
   "metadata": {},
   "outputs": [],
   "source": [
    "N = 8192 \n",
    "BM, BN, TM, TN = 128, 128, 8, 8\n",
    "block_dim = (BN // TN, BM // TM)\n",
    "grid_dim = ((N + BM - 1) // BM,\n",
    "            (N + BN - 1) // BN)\n",
    "\n",
    "runner = RegisterTiledKernelRunner()\n",
    "_ = runner(block_dim, grid_dim, (N,), read_full_src=False, niterations=20)"
   ]
  }
 ],
 "metadata": {
  "kernelspec": {
   "display_name": "Python 3 (ipykernel)",
   "language": "python",
   "name": "python3"
  },
  "language_info": {
   "codemirror_mode": {
    "name": "ipython",
    "version": 3
   },
   "file_extension": ".py",
   "mimetype": "text/x-python",
   "name": "python",
   "nbconvert_exporter": "python",
   "pygments_lexer": "ipython3",
   "version": "3.13.9"
  }
 },
 "nbformat": 4,
 "nbformat_minor": 5
}
