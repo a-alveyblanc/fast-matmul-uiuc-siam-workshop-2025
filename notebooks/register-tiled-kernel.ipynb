{
 "cells": [
  {
   "cell_type": "code",
   "execution_count": null,
   "id": "30f37c73-7be0-437b-8843-caa255e12f88",
   "metadata": {},
   "outputs": [],
   "source": [
    "from kernel_runner import KernelRunner\n",
    "from dataclasses import dataclass\n",
    "\n",
    "@dataclass(frozen=True)\n",
    "class RegisterTiledKernelRunner(KernelRunner):\n",
    "    template: str = \"<float, 128, 128, 8, 8, 8>\"\n",
    "    kernel_name: str = \"register_tiled\""
   ]
  },
  {
   "cell_type": "markdown",
   "id": "3edcf327-b29c-4c7b-94da-ba162c2f3626",
   "metadata": {},
   "source": [
    "# More loop transformations and storage insertion\n",
    "\n",
    "Registers are pieces of memory where compute happens on a chip. This is the\n",
    "ideal place to keep values if at all possible.\n",
    "\n",
    "Instead of splitting loops, we can permute their order to change the how compute\n",
    "happens. Register tiling relies on this permutation.\n",
    "\n",
    "Here's the shared memory loop structure, can you permute the loops to expose more\n",
    "reuse that we can exploit with register usage?\n",
    "```python\n",
    "for io in range(N // BM):                  # parallel outer\n",
    "    for jo in range(N // BN):              # parallel outer\n",
    "        \n",
    "        for ii in range(BM):               # parallel inner\n",
    "            for ji in range(BN):           # parallel inner\n",
    "\n",
    "                for ko in range(N // BK):  # sequential outer\n",
    "                    for ki in range(BK):   # sequential inner\n",
    "                        # compute\n",
    "```"
   ]
  },
  {
   "cell_type": "markdown",
   "id": "6decd858-cd20-4338-a345-cb9b3da77918",
   "metadata": {},
   "source": [
    "# Note on register pressure\n",
    "- We have a limited number of registers (64K 32-bit registers)\n",
    "- If we use too many registers, SMs will be short on resources and underutilized\n",
    "  as a result\n",
    "- Given thread tile sizes of TM*TN, compute the total number of registers"
   ]
  },
  {
   "cell_type": "code",
   "execution_count": null,
   "id": "73bd4418-2b74-45e8-93b3-5d0bb959e04d",
   "metadata": {},
   "outputs": [],
   "source": [
    "N = 8192 \n",
    "BM, BN, TM, TN = 128, 128, 8, 8\n",
    "block_dim = (BN // TN, BM // TM)\n",
    "grid_dim = ((N + BM - 1) // BM,\n",
    "            (N + BN - 1) // BN)\n",
    "\n",
    "runner = RegisterTiledKernelRunner()\n",
    "# there is no \"blank\" version of this kernel: keep read_full_src=True\n",
    "_ = runner(block_dim, grid_dim, (N,), read_full_src=True, niterations=20)"
   ]
  },
  {
   "cell_type": "markdown",
   "id": "545c9190-5776-4a06-b458-a93ab14bea5b",
   "metadata": {},
   "source": [
    "Using the above parameters, compute the following things:"
   ]
  },
  {
   "cell_type": "code",
   "execution_count": null,
   "id": "ea02a9dc-9af2-47b2-bcc1-fc2de821f489",
   "metadata": {},
   "outputs": [],
   "source": [
    "# theoretical occupancy calculation\n",
    "registers_per_thread = 0\n",
    "threads_per_block = 0\n",
    "registers_per_block = 0\n",
    "\n",
    "max_registers_per_sm = 65536\n",
    "warp_size = 32\n",
    "\n",
    "blocks_per_sm_theoretical = 0\n",
    "threads_per_sm_theoretical = 0\n",
    "warps_per_sm_theoretical = 0\n",
    "print(f\"Registers per thread        : {registers_per_thread}\")\n",
    "print(f\"Registers per block         : {registers_per_block}\")\n",
    "print(f\"Blocks    per SM theoretical: {blocks_per_sm_theoretical}\")\n",
    "print(f\"Threads   per SM theoretical: {threads_per_sm_theoretical}\")\n",
    "print(f\"Warps     per SM theoretical: {warps_per_sm_theoretical}\")"
   ]
  },
  {
   "cell_type": "markdown",
   "id": "05c01ac6-0656-4f4c-9a5d-53bb574f9b0f",
   "metadata": {},
   "source": [
    "Based on information in the first notebook:\n",
    "1. Are the numbers above good or bad?\n",
    "2. Which number matters the most from the perspective of the SM?"
   ]
  }
 ],
 "metadata": {
  "kernelspec": {
   "display_name": "Python 3 (ipykernel)",
   "language": "python",
   "name": "python3"
  },
  "language_info": {
   "codemirror_mode": {
    "name": "ipython",
    "version": 3
   },
   "file_extension": ".py",
   "mimetype": "text/x-python",
   "name": "python",
   "nbconvert_exporter": "python",
   "pygments_lexer": "ipython3",
   "version": "3.13.9"
  }
 },
 "nbformat": 4,
 "nbformat_minor": 5
}
