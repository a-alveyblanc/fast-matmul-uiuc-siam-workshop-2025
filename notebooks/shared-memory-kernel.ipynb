{
 "cells": [
  {
   "cell_type": "code",
   "execution_count": null,
   "id": "c1865209-c4b6-4bb9-871d-0a1cd8d091cc",
   "metadata": {},
   "outputs": [],
   "source": [
    "from kernel_runner import KernelRunner\n",
    "from dataclasses import dataclass\n",
    "\n",
    "@dataclass(frozen=True)\n",
    "class SharedMemoryKernelRunner(KernelRunner):\n",
    "    template: str = \"<float, 32, 32, 32>\"\n",
    "    kernel_name: str = \"shared_memory\""
   ]
  },
  {
   "cell_type": "markdown",
   "id": "7961b242-8acb-4be8-9249-3630299ab156",
   "metadata": {},
   "source": [
    "# What is shared memory?\n",
    "\n",
    "Shared memory (sometimes called scratchpad) is an explicitly managed L1 cache.\n",
    "\n",
    "We can load \"tiles\" of our inputs into shared memory and access them from there\n",
    "instead of global memory. This is useful if each entry in our input arrays is\n",
    "used more than once, offsetting the cost of the load before use."
   ]
  },
  {
   "cell_type": "markdown",
   "id": "fc1c8536-235f-4b73-9637-6656fcc5388a",
   "metadata": {},
   "source": [
    "# Transforming loops and inserting fast memory storage\n",
    "\n",
    "The naive loop structure looks something like this:\n",
    "```python\n",
    "for i in range(N):         # parallel\n",
    "    for j in range(N):     # parallel\n",
    "        for k in range(N): # sequential\n",
    "            # compute\n",
    "```\n",
    "\n",
    "Corresponding to the math statement:\n",
    "$$\n",
    "C_{ij} = \\sum_{k=1}^N A_{ik} B_{kj}\n",
    "$$\n",
    "\n",
    "Our goal for the shared memory example is to implement a rewritten math\n",
    "expression\n",
    "$$\n",
    "C_{(i,ii),(j,jj)} = \n",
    "    \\sum_{ko=1}^{N_b}\\sum_{ki=1}^{BK} A_{(io,ii),(ko,ki)} B_{(ko,ki),(jo,jj)}\n",
    "$$\n",
    "\n",
    "This is just *block matrix multiplication*, described by the following picture:\n",
    "\n",
    "<img src=\"../../resources/block-matrix-multiplication.svg\" width=500 />\n",
    "\n",
    "- Picture from: https://en.wikipedia.org/wiki/Block_matrix#Multiplication\n",
    "\n",
    "So, we can just split the loops:\n",
    "```python\n",
    "for io in range(N // BM):                  # parallel outer\n",
    "    for jo in range(N // BN):              # parallel outer\n",
    "        for ii in range(BM):               # parallel inner\n",
    "            for ji in range(BN):           # parallel inner\n",
    "\n",
    "                for ko in range(N // BK):  # sequential outer\n",
    "                    for ki in range(BK):   # sequential inner\n",
    "                        # compute\n",
    "```\n",
    "\n",
    "However, this doesn't really help us because we aren't exploiting the fast memory\n",
    "of the GPU."
   ]
  },
  {
   "cell_type": "markdown",
   "id": "18356130-bb01-4165-a54f-661c1f6b5a61",
   "metadata": {},
   "source": [
    "Insert the points at which it would be useful to move data from our inputs into\n",
    "shared memory:\n",
    "```python\n",
    "for io in range(N // BM):                  # parallel outer\n",
    "    for jo in range(N // BN):              # parallel outer\n",
    "        for ii in range(BM):               # parallel inner\n",
    "            for ji in range(BN):           # parallel inner\n",
    "\n",
    "                for ko in range(N // BK):  # sequential outer\n",
    "                    for ki in range(BK):   # sequential inner\n",
    "                        # compute\n",
    "```\n",
    "\n",
    "Take a look at <a href=../src/numpy-examples/shared-memory-matmul.py>\n",
    "the shared memory numpy example to discuss loop structure and storage</a> to see\n",
    "if you were correct"
   ]
  },
  {
   "cell_type": "code",
   "execution_count": null,
   "id": "e89b4cc3-1d7e-4173-8ed4-15599707114f",
   "metadata": {},
   "outputs": [],
   "source": [
    "N = 8192 \n",
    "BM = BN = 32\n",
    "block_dim = (BM, BN)\n",
    "grid_dim = (N // BM, N // BN)\n",
    "\n",
    "# Q: what's with the GB/s? should it be higher? lower? why or why not?\n",
    "runner = SharedMemoryKernelRunner()\n",
    "_ = runner(block_dim, grid_dim, (N,), read_full_src=False, niterations=20)"
   ]
  }
 ],
 "metadata": {
  "kernelspec": {
   "display_name": "Python 3 (ipykernel)",
   "language": "python",
   "name": "python3"
  },
  "language_info": {
   "codemirror_mode": {
    "name": "ipython",
    "version": 3
   },
   "file_extension": ".py",
   "mimetype": "text/x-python",
   "name": "python",
   "nbconvert_exporter": "python",
   "pygments_lexer": "ipython3",
   "version": "3.13.9"
  }
 },
 "nbformat": 4,
 "nbformat_minor": 5
}
